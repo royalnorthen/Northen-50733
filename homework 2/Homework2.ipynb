{
 "cells": [
  {
   "cell_type": "markdown",
   "id": "6c693a0b-8009-4b4c-bec5-03a694642160",
   "metadata": {},
   "source": [
    "## Homework 2\n",
    "### Due: Thursday Feb. 13\n",
    "\n",
    "**Integer vs floating point number**\n",
    "\n",
    "Write a program to calculate and print the factorial of a\n",
    "number.  If you wish you can base your program on the\n",
    "user-defined function for factorial given in Section 2.6, but write your\n",
    "program so that it calculates the factorial using *integer*\n",
    "variables, not floating-point ones.  Use your program to calculate the\n",
    "factorial of 200.\n",
    "\n",
    "Now modify your program to use floating-point variables instead and again\n",
    "calculate the factorial of 200.  What do you find?  Explain.\n",
    "\n",
    "(20 points)"
   ]
  },
  {
   "cell_type": "code",
   "execution_count": 45,
   "id": "de7fed8f-325f-4eab-ab18-1e59d1d6b428",
   "metadata": {},
   "outputs": [
    {
     "name": "stdout",
     "output_type": "stream",
     "text": [
      "788657867364790503552363213932185062295135977687173263294742533244359449963403342920304284011984623904177212138919638830257642790242637105061926624952829931113462857270763317237396988943922445621451664240254033291864131227428294853277524242407573903240321257405579568660226031904170324062351700858796178922222789623703897374720000000000000000000000000000000000000000000000000\n",
      "2432902008176640000\n",
      "120\n",
      "\n",
      "now using floating point numbers:\n",
      "\n",
      "inf\n",
      "2.43290200817664e+18\n",
      "120.0\n",
      "\n",
      "\tIt seems that the integer calculation allows for a more exact calculation (but I don't think it's fully correct).\n",
      "The floating point calculation simply outputs infinity, which I assume happens after the number is sufficiently large.\n"
     ]
    }
   ],
   "source": [
    "# code\n",
    "def integer_factorial(x):\n",
    "    output = 1\n",
    "    for k in range(2, x+1):\n",
    "        output *= k\n",
    "\n",
    "    return output\n",
    "\n",
    "print(integer_factorial(200))\n",
    "print(integer_factorial(20))\n",
    "print(integer_factorial(5))\n",
    "\n",
    "def float_factorial(x):\n",
    "    output = 1.0\n",
    "    for k in range(2, x+1):\n",
    "        output *= k\n",
    "\n",
    "    return output\n",
    "\n",
    "print(\"\\nnow using floating point numbers:\\n\")\n",
    "print(float_factorial(200))\n",
    "print(float_factorial(20))\n",
    "print(float_factorial(5))\n",
    "\n",
    "print(\"\\n\\tIt seems that the integer calculation allows for a more exact calculation (but I don't think it's fully correct).\")\n",
    "print(\"The floating point calculation simply outputs infinity, which I assume happens after the number is sufficiently large.\")"
   ]
  },
  {
   "cell_type": "markdown",
   "id": "1e9a5155-daa8-4809-8e6a-e5d4ab7c270d",
   "metadata": {},
   "source": [
    "**A Simple Derivative**\n",
    "\n",
    "Suppose we have a function $f(x)$ and we want to\n",
    "calculate its derivative at a point $x$.  We can do that with pencil and\n",
    "paper if we know the mathematical form of the function, or we can do it on\n",
    "the computer by making use of the definition of the derivative:\n",
    "\n",
    "\n",
    "${d f\\over d x} = \\lim_{\\delta\\to0} {f(x+\\delta)-f(x)\\over\\delta}.$\n",
    "\n",
    "\n",
    "On the computer we can't actually take the limit as $\\delta$ goes to\n",
    "zero, but we can get a reasonable approximation just by making $\\delta$\n",
    "small.\n",
    "- Write a program that defines a function *f(x)* returning the\n",
    "  value $x(x-1)$, then calculates the derivative of the function at the\n",
    "  point $x=1$ using the formula above with $\\delta=10^{-2}$.  Calculate\n",
    "  the true value of the same derivative analytically and compare with the\n",
    "  answer your program gives.  The two will not agree perfectly.  Why not?\n",
    "- Repeat the calculation for $\\delta=10^{-4}$, $10^{-6}$, $10^{-8}$,\n",
    "  $10^{-10}$, $10^{-12}$, and $10^{-14}$.  You should see that the accuracy\n",
    "  of the calculation initially gets better as $\\delta$ gets smaller, but\n",
    "  then gets worse again.  Why is this?\n",
    "\n",
    "(20 points)"
   ]
  },
  {
   "cell_type": "code",
   "execution_count": 44,
   "id": "84528686-9eb8-4446-81db-1a6dc4a26a30",
   "metadata": {},
   "outputs": [
    {
     "name": "stdout",
     "output_type": "stream",
     "text": [
      "1.010000000000001\n",
      "1.0000999999998899\n",
      "1.0000009999177333\n",
      "1.0000000039225287\n",
      "1.000000082840371\n",
      "1.0000889005833413\n",
      "0.9992007221626509\n",
      "\n",
      "\tThe analytical result of the derivative is (2x - 1), where x = 1, so it evaluates to 1.  The program disagrees when\n",
      "the delta is only 10^-2 because it is large enough that it does not mathematically approximate an infinitesimal\n",
      "quantity well.\n",
      "\n",
      "\tThe reason that the results get worse when delta is very small is because the difference between the two points\n",
      "becomes a very small number, which is then effectively multiplied by a large value, thus the small error is\n",
      "proportionally larger.\n"
     ]
    }
   ],
   "source": [
    "# code\n",
    "\n",
    "def derivative(function, x, delta):\n",
    "    return (function(x + delta) - function(x)) / delta\n",
    "\n",
    "def f_2(x):\n",
    "    return x * (x-1)\n",
    "\n",
    "for k in range(1, 8):\n",
    "    print(derivative(f_2, 1, 10**(-k*2)))\n",
    "\n",
    "print(\"\\n\\tThe analytical result of the derivative is (2x - 1), where x = 1, so it evaluates to 1.  The program disagrees when\")\n",
    "print(\"the delta is only 10^-2 because it is large enough that it does not mathematically approximate an infinitesimal\")\n",
    "print(\"quantity well.\")\n",
    "\n",
    "print(\"\\n\\tThe reason that the results get worse when delta is very small is because the difference between the two points\")\n",
    "print(\"becomes a very small number, which is then effectively multiplied by a large value, thus the small error is\")\n",
    "print(\"proportionally larger.\")"
   ]
  },
  {
   "cell_type": "markdown",
   "id": "ebb2e1bb-74fa-4897-9d4d-8ba74bfe1ad2",
   "metadata": {},
   "source": [
    "### Simpson's Rule\n",
    "\n",
    "- Write a program to calculate an approximate value for the integral $\\int_{0}^{2} ( x^4 - 2x + 1)dx$ from Example 5.1 in the book, but using Simpson's rule with 10 slices instead of the trapezoid rule. You may be able to modify your code from the trapezoid rule to complete this task. Compare your result to the known correct value of 4.4. What is the fractional error on your calculation?\n",
    "\n",
    "- Copy your code and modify it to use one hundred slices, then one thousand. Note the improvement in the result and compare to the results from the trapezoid rule.\n",
    "\n",
    "(30 points)"
   ]
  },
  {
   "cell_type": "code",
   "execution_count": 43,
   "id": "d8370bf3-7d95-442e-8d4d-b3636a60e6e7",
   "metadata": {},
   "outputs": [
    {
     "name": "stdout",
     "output_type": "stream",
     "text": [
      "4.400426666666667\n",
      "4.400000042666668\n",
      "4.400000000004266\n",
      "\n",
      "Now using just the trapezoid sum\n",
      "\n",
      "4.506560000000001\n",
      "4.401066655999999\n",
      "4.400010666665598\n",
      "\n",
      "\tAs you can see, the trapezoid sum with 100 steps is not even as good as Simpson's Rule with 10 steps.\n",
      "Additionally, the error on Simpson's Rule decreases faster per step increase than does the trapezoid sum.\n"
     ]
    }
   ],
   "source": [
    "# code\n",
    "import numpy as np\n",
    "\n",
    "def f_1(x):\n",
    "    return x**4 - 2*x + 1\n",
    "\n",
    "def AdaptiveSimpSum(function, a, b, N_steps = 10, tolerance = 0.0001, recursing = True, last_total = 0):\n",
    "    h = (b-a) / N_steps\n",
    "    total_T, total_I = 0, 0\n",
    "    if last_total == 0:\n",
    "        total_S = (1/3) * (function(a) + function(b))\n",
    "        for k in range(2, N_steps-1, 2):\n",
    "            total_S += (2/3) * function(a + k*h)\n",
    "    else:\n",
    "        total_S = last_total\n",
    "\n",
    "    for k in range(1, N_steps, 2):\n",
    "        total_T += (2/3) * function(a + k*h)\n",
    "\n",
    "    total_I = h * (total_S + 2*total_T)\n",
    "\n",
    "    if recursing == True:\n",
    "        simp_error = np.abs(total_I - AdaptiveSimpSum(function, a, b, N_steps=2*N_steps, recursing=False)) / 15\n",
    "        #print(f\"{N_steps} steps, error: {simp_error}\")\n",
    "        \n",
    "        if simp_error >= tolerance:\n",
    "            total_I = AdaptiveSimpSum(function, a, b, N_steps=2*N_steps, tolerance=tolerance, recursing=True, last_total=(total_S + total_T))\n",
    "\n",
    "    return total_I\n",
    "\n",
    "print(AdaptiveSimpSum(f_1, 0, 2, N_steps=10, recursing=False))\n",
    "print(AdaptiveSimpSum(f_1, 0, 2, N_steps=100, recursing=False))\n",
    "print(AdaptiveSimpSum(f_1, 0, 2, N_steps=1000, recursing=False))\n",
    "\n",
    "def AdaptiveTrapSum(function, a, b, N_steps = 10, tolerance = 0.0001, recursing = True, step_skip = 1, last_total = 0):\n",
    "    h = (b-a) / N_steps\n",
    "    if last_total == 0:\n",
    "        total = 0.5*h * (function(a) + function(b))\n",
    "    else:\n",
    "        total = last_total\n",
    "\n",
    "    for k in range(1, N_steps, step_skip):\n",
    "        total += h * function(a + k*h)\n",
    "\n",
    "    if recursing == True:\n",
    "        trap_error = np.abs(total - AdaptiveTrapSum(function, a, b, N_steps=2*N_steps, recursing=False)) / 3\n",
    "        #print(f\"{N_steps} steps, error: {trap_error}\")\n",
    "        \n",
    "        if trap_error >= tolerance:\n",
    "            total = AdaptiveTrapSum(function, a, b, N_steps=2*N_steps, tolerance=tolerance, recursing=True, step_skip=2, last_total=total/2)\n",
    "\n",
    "    return total\n",
    "\n",
    "print(\"\\nNow using just the trapezoid sum\\n\")\n",
    "print(AdaptiveTrapSum(f_1, 0, 2, N_steps=10, recursing=False))\n",
    "print(AdaptiveTrapSum(f_1, 0, 2, N_steps=100, recursing=False))\n",
    "print(AdaptiveTrapSum(f_1, 0, 2, N_steps=1000, recursing=False))\n",
    "\n",
    "print(\"\\n\\tAs you can see, the trapezoid sum with 100 steps is not even as good as Simpson's Rule with 10 steps.\")\n",
    "print(\"Additionally, the error on Simpson's Rule decreases faster per step increase than does the trapezoid sum.\")\n",
    "\n"
   ]
  },
  {
   "cell_type": "markdown",
   "id": "4c080cd1-540e-4ab2-a0d6-3372d1899b4f",
   "metadata": {},
   "source": [
    "### An Integral With No Analytic Solution\n",
    "\n",
    "Consider the integral\n",
    "\n",
    "$$ E(x) = \\int_{0}^{x} \\exp{-t^2} dt$$\n",
    "\n",
    "- Write a program to calculate $E(x)$ for values of x from 0 to 3 in steps of 0.1. Choose for yourself what method you will use for performing the integral and a suitable number of slices.\n",
    "\n",
    "- When you are convinced your program is working, extend it further to make a graph of E(x) as a function of x.\n",
    "\n",
    "(30 points)"
   ]
  },
  {
   "cell_type": "code",
   "execution_count": null,
   "id": "27aaf5cb-8c02-4c8a-affe-d7d67c969b59",
   "metadata": {},
   "outputs": [
    {
     "data": {
      "text/plain": [
       "Text(0.5, 1.0, 'E(x)')"
      ]
     },
     "execution_count": 42,
     "metadata": {},
     "output_type": "execute_result"
    },
    {
     "data": {
      "image/png": "[encoded data removed]",
      "text/plain": [
       "<Figure size 2000x1000 with 1 Axes>"
      ]
     },
     "metadata": {},
     "output_type": "display_data"
    }
   ],
   "source": [
    "# code\n",
    "import matplotlib.pyplot as plt\n",
    "\n",
    "def f_3(t):\n",
    "    return (np.e)**-(t**2)\n",
    "\n",
    "E_values = np.zeros(31)\n",
    "\n",
    "for k in range(0, 31):\n",
    "    E_values[k] = AdaptiveSimpSum(f_3, 0, k/10) # default N_steps = 10, it will increase steps until the error is less than default tolerance = 0.0001\n",
    "    # I didn't figure we need a super small tolerance since we're just making a graph\n",
    "\n",
    "x_axis = np.linspace(0, 31, 31)\n",
    "\n",
    "fig1 = plt.figure(figsize=(20,10))\n",
    "ax1 = fig1.add_subplot(111)\n",
    "ax1.plot(x_axis,E_values,c='b',alpha=1.0)\n",
    "\n",
    "ax1.xaxis.set_tick_params(labelsize=20)\n",
    "ax1.yaxis.set_tick_params(labelsize=20)\n",
    "LabelFont = {'family':'serif','color':'black','size':20}\n",
    "TitleFont = {'family':'serif','color':'black','size':30}\n",
    "plt.xlabel(\"x\", fontdict = LabelFont)\n",
    "plt.ylabel(\"E(x)\", fontdict = LabelFont)\n",
    "plt.title(\"E(x)\", fontdict = TitleFont)"
   ]
  },
  {
   "cell_type": "code",
   "execution_count": null,
   "id": "56ef9c48",
   "metadata": {},
   "outputs": [],
   "source": []
  }
 ],
 "metadata": {
  "kernelspec": {
   "display_name": "test",
   "language": "python",
   "name": "python3"
  },
  "language_info": {
   "codemirror_mode": {
    "name": "ipython",
    "version": 3
   },
   "file_extension": ".py",
   "mimetype": "text/x-python",
   "name": "python",
   "nbconvert_exporter": "python",
   "pygments_lexer": "ipython3",
   "version": "3.12.6"
  }
 },
 "nbformat": 4,
 "nbformat_minor": 5
}
