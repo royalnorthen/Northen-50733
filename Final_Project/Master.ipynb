{
 "cells": [
  {
   "cell_type": "code",
   "execution_count": 1,
   "id": "83ff3433",
   "metadata": {},
   "outputs": [],
   "source": [
    "import numpy as np\n",
    "import matplotlib.pyplot as plt\n",
    "import matplotlib.animation as animation"
   ]
  },
  {
   "cell_type": "code",
   "execution_count": null,
   "id": "9eaa2f45",
   "metadata": {},
   "outputs": [],
   "source": [
    "class human(object):\n",
    "    def __init__(self, coords=None, infection=None, masking_rate=None):\n",
    "        self.pos = np.flip(np.array(coords))\n",
    "        self.vel = np.linalg.norm(np.random.rand(len(self.pos)))    # random direction, always speed of one\n",
    "        self.radius = 1.0                              # this may need to change, radius is also interaction distance\n",
    "        self.infected = infection\n",
    "        self.infected_timer = virus_duration\n",
    "        self.immune = False\n",
    "        if masking_rate != None and masking_rate >= np.random.rand():\n",
    "            self.mask = True\n",
    "        else:\n",
    "            self.mask = False\n",
    "        assert coords is not None, \"must pass coordinates to instantiate human object\"\n",
    "        assert infection is not None, \"must pass infection status to instantiate human object\"\n",
    "\n",
    "    def wall_collide(self):\n",
    "        if self.pos[0] - self.radius <= 0 or self.pos[0] + self.radius >= stage_width:\n",
    "            self.vel[0] *= -1\n",
    "        if self.pos[1] - self.radius <= 0 or self.pos[1] + self.radius >= stage_height:\n",
    "            self.vel[1] *= -1\n",
    "\n",
    "    def interact(self, human2):\n",
    "        # turns around at least 90 degrees\n",
    "        new_traj_angle = np.random.rand()*np.pi + np.pi/2 \n",
    "        rotation_matrix = np.array([[np.cos(new_traj_angle), -np.sin(new_traj_angle)], [np.sin(new_traj_angle), np.cos(new_traj_angle)]])\n",
    "        self.vel = np.matmul(rotation_matrix, self.vel) # no change in speed\n",
    "\n",
    "        # chance of infection\n",
    "        if human2.infected and not (self.infected or self.immune):\n",
    "            if human2.mask and self.mask:\n",
    "                if spread_two_mask >= np.random.rand():\n",
    "                    self.infected = True\n",
    "            elif human2.mask or self.mask:\n",
    "                if spread_one_mask >= np.random.rand():\n",
    "                    self.infected = True\n",
    "            elif spread_no_mask >= np.random.rand():\n",
    "                self.infected = True\n",
    "\n",
    "    def infected_advance(self, time_step):\n",
    "        if self.infected:\n",
    "            self.infected_timer -= time_step\n",
    "        if self.infected_timer <= 0:\n",
    "            self.infected = False\n",
    "            self.immune = True\n",
    "\n",
    "    def advance(self, time_step):\n",
    "        self.pos = self.pos + self.vel * time_step\n",
    "        self.wall_collide()\n",
    "        self.infected_advance(time_step=time_step)\n",
    "\n",
    "\n",
    "# stage\n",
    "stage_width = 35\n",
    "stage_height = 60\n",
    "human_spacing = 5\n",
    "\n",
    "# alien supervirus\n",
    "spread_no_mask = 0.99\n",
    "spread_one_mask = 0.33\n",
    "spread_two_mask = 0.099 # masks are very effective\n",
    "death_chance = 0.90\n",
    "virus_duration = 9\n"
   ]
  },
  {
   "cell_type": "code",
   "execution_count": null,
   "id": "004b8bc7",
   "metadata": {},
   "outputs": [],
   "source": [
    "for i in range(0, stage_width, human_spacing):\n",
    "    for j in range(0, stage_height, human_spacing):\n",
    "        create humans # is this the best way to do this?  since I won't be appending new humans (nor xenomorphs), should I use numpy array?"
   ]
  }
 ],
 "metadata": {
  "kernelspec": {
   "display_name": "test",
   "language": "python",
   "name": "python3"
  },
  "language_info": {
   "codemirror_mode": {
    "name": "ipython",
    "version": 3
   },
   "file_extension": ".py",
   "mimetype": "text/x-python",
   "name": "python",
   "nbconvert_exporter": "python",
   "pygments_lexer": "ipython3",
   "version": "3.12.6"
  }
 },
 "nbformat": 4,
 "nbformat_minor": 5
}
