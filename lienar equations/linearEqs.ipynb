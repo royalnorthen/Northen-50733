{
 "cells": [
  {
   "cell_type": "markdown",
   "id": "3152985b-aada-4a50-b547-24d8e64c1415",
   "metadata": {},
   "source": [
    "# Gaussian Elimination\n",
    "\n",
    "Gaussian elimination is detailed in Sec. 6.1.1. The process is iterative to the point of being tedious and lends itself nicely to a nested for loop. \n",
    "\n",
    "There is some example code given, but as usual it is instructive to attempt the exercise for yourself first. Write some code to perform Gaussian Elimination for the example Eq. 6.2.\n",
    "\n",
    "Once you have the resulting upper triangular, write another loop to do the back substitution and solve the system of equations. The correct answer is given in the text."
   ]
  },
  {
   "cell_type": "code",
   "execution_count": 44,
   "id": "272b0901-d7f5-4668-b6e3-b883f6d25008",
   "metadata": {},
   "outputs": [
    {
     "data": {
      "text/plain": [
       "[np.float64(2.0000000000000036),\n",
       " np.float64(-1.000000000000003),\n",
       " np.float64(-2.0),\n",
       " np.float64(0.9999999999999964)]"
      ]
     },
     "execution_count": 44,
     "metadata": {},
     "output_type": "execute_result"
    }
   ],
   "source": [
    "import numpy as np\n",
    "\n",
    "A = np.array([[2, 1, 4, 1],\n",
    "             [3, 4, -1, -1],\n",
    "             [1, -4, 1, 5],\n",
    "             [2, -2, 1, 3]], float)\n",
    "v =  [-4, 3, 9, 7]\n",
    "\n",
    "# code\n",
    "def Gauss_elim(matrix, vector):\n",
    "    N = len(vector)\n",
    "    for i in range(0, N):\n",
    "        vector[i] /= matrix[i,i]\n",
    "        matrix[i,:] /= matrix[i,i]\n",
    "        \n",
    "        for j in range(i+1, N):\n",
    "            vector[j] -= vector[i]*matrix[j,i]\n",
    "            matrix[j,:] -= matrix[i,:]*matrix[j,i]\n",
    "\n",
    "    #back sub\n",
    "    result = vector\n",
    "    for i in range(1, N):\n",
    "        for j in range(N-i, N):\n",
    "            result[N-i-1] -= matrix[N-i-1, j] * result[j]\n",
    "\n",
    "    return result\n",
    "    \n",
    "    \n",
    "# 2 -1 -2 -1\n",
    "Gauss_elim(A,v)"
   ]
  },
  {
   "cell_type": "markdown",
   "id": "6ab18220-d69e-48a2-b9e3-bf8bc3e811be",
   "metadata": {},
   "source": [
    "# LU Decomposition\n",
    "\n",
    "LU Decomposition is similar to Gaussian elimination, but is more flexible. The result is a set of matrices LU that are equivalent to A, but can be used to immediately solve any problem of the form $ \\mathbf{A} \\vec{v} = \\vec{x_{n}}$ where we might have many different $\\vec{x_{n}}$ for which we need $\\vec{v}$.\n",
    "\n",
    "The suggestion in the text is to use an iterative process to build up the matrices L and U.\n",
    "\n",
    "Begin by setting up the problem"
   ]
  },
  {
   "cell_type": "code",
   "execution_count": null,
   "id": "49641ffd-7107-4b47-9b44-a14125bd23bf",
   "metadata": {},
   "outputs": [],
   "source": [
    "\n",
    "N = A.shape[0]\n",
    "\n",
    "L = np.zeros([N,N], float)\n",
    "U = np.copy(A)\n"
   ]
  },
  {
   "cell_type": "markdown",
   "id": "affb7867-30c4-4e06-bcaa-4382c316c205",
   "metadata": {},
   "source": [
    "Now we'll iterate through the rows and columns. Notice I've created U to initially be a copy of **A** while **L** is zeros. \n",
    "\n",
    "In the text, we write a series of matrices whose product is the upper triangular Gaussian elimination product. In practice, we can build this product iteratively.\n",
    "\n",
    "The first column of the matrix **L** is the first row of **A**, $a_{00}$ to $a_{n0}$. The first row in **U** is the Gaussian elimination row, $a_{00}/a_{00}$ through $a_{n0}/a_{00}$.\n",
    "\n",
    "Then we're done editing that row in **U**, but we need to subract it multiplied by the first element of the remaining rows from the remaining rows. Now we have second matrix with elements $b_{nm}$.\n",
    "\n",
    "The process is iterative from here. We select the next column of **L** from b, then normalize b and use the result to calculate c.\n",
    "\n",
    "This process is of course a nested for loop. Try to code it. It may be helpful to print L and U at each step.\n",
    "\n",
    "Verify your result by subtracting the product **LU** from **A** e.g., `print(np.matmul(L,U) - A)`"
   ]
  },
  {
   "cell_type": "code",
   "execution_count": null,
   "id": "11ac107e-e783-4b04-acd7-f6e88354c44c",
   "metadata": {},
   "outputs": [],
   "source": [
    "# code\n",
    "def LU_decomp(matrix):\n",
    "    for i in range()"
   ]
  },
  {
   "cell_type": "markdown",
   "id": "2b01396b-96ff-4967-8794-a74796170d9a",
   "metadata": {},
   "source": [
    "### Back substitution\n",
    "\n",
    "Now that you have L and U we can do some quick back substitution. The compontents of $\\vec{y}$ and $\\vec{x}$ can we written down fairly easily from Eqs. 6.35 and 6.36, and in fact $\\vec{y}$ in the 3 element case is given explicitly. The generalization for $\\vec{y}$ is straightforward; write a for loop to calculate $\\vec{y}$, then use $\\vec{y}$ and another for loop to calculate $\\vec{x}$."
   ]
  },
  {
   "cell_type": "code",
   "execution_count": null,
   "id": "93e8d2fe-5552-4484-a4cd-d49584c4b81b",
   "metadata": {},
   "outputs": [],
   "source": [
    "# code"
   ]
  },
  {
   "cell_type": "markdown",
   "id": "67daf08e-ead1-4f84-a4e5-c78b59cb1a67",
   "metadata": {},
   "source": [
    "### Verify\n",
    "\n",
    "Ensure that your solution is correct. It should satisfy all 4 simultaneous equations, and/or you could just do some matrix math. `np.matmul` broadcast matrices and vectors correctly.\n",
    "\n",
    "Now that we've done things the hard way, let's also verify that `np.linalg.solve` finds the same answer."
   ]
  },
  {
   "cell_type": "code",
   "execution_count": null,
   "id": "2ec0ae89-514f-431d-8875-1368b2b6c67c",
   "metadata": {},
   "outputs": [],
   "source": []
  }
 ],
 "metadata": {
  "kernelspec": {
   "display_name": "test",
   "language": "python",
   "name": "python3"
  },
  "language_info": {
   "codemirror_mode": {
    "name": "ipython",
    "version": 3
   },
   "file_extension": ".py",
   "mimetype": "text/x-python",
   "name": "python",
   "nbconvert_exporter": "python",
   "pygments_lexer": "ipython3",
   "version": "3.12.6"
  }
 },
 "nbformat": 4,
 "nbformat_minor": 5
}
