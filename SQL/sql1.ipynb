{
 "cells": [
  {
   "cell_type": "code",
   "execution_count": null,
   "id": "9a5fb67e-d85d-461e-8d1d-c26f70082b6f",
   "metadata": {},
   "outputs": [],
   "source": [
    "import sqlite3\n",
    "\n",
    "db = sqlite3.connect(\"research.db\")\n",
    "\n",
    "db.row_factory = sqlite3.Row\n",
    "\n",
    "with open(\"research.sql\", mode='r') as file_:\n",
    "    db.cursor().executescript(file_.read())\n",
    "db.commit()"
   ]
  },
  {
   "cell_type": "code",
   "execution_count": null,
   "id": "70b2b4ce-8d49-458d-ade8-288fbaea5217",
   "metadata": {},
   "outputs": [],
   "source": [
    "db.execute(\"INSERT INTO project (name) VALUES (?)\", [\"computational\"])\n",
    "db.commit()"
   ]
  },
  {
   "cell_type": "code",
   "execution_count": null,
   "id": "85c53aaa-9113-4274-ac47-2a87baf4a572",
   "metadata": {},
   "outputs": [],
   "source": [
    "res = db.execute(\"SELECT * from project\")\n",
    "p = res.fetchone()\n",
    "print(p[\"name\"])"
   ]
  },
  {
   "cell_type": "code",
   "execution_count": null,
   "id": "e7a5f4d7-c46c-480a-8de1-89de531847ac",
   "metadata": {},
   "outputs": [],
   "source": [
    "db.execute(\"INSERT INTO researcher (name) VALUES (?)\", [\"john\"])\n",
    "db.commit()\n",
    "\n",
    "res = db.execute(\"SELECT pk from project where name = 'computational'\")\n",
    "p = res.fetchone()\n",
    "project_pk = p[\"pk\"]\n",
    "res = db.execute(\"SELECT pk from researcher where name = 'john'\")\n",
    "p = res.fetchone()\n",
    "researcher_pk = p[\"pk\"]\n",
    "\n",
    "db.execute(\"INSERT INTO researcher_to_project (researcher_pk, project_pk) VALUES (?, ?)\", [researcher_pk, project_pk])\n",
    "db.commit()"
   ]
  },
  {
   "cell_type": "code",
   "execution_count": null,
   "id": "5b5bb4ed-f1d9-4520-8d33-355462f5f6e3",
   "metadata": {},
   "outputs": [],
   "source": [
    "query = (\"SELECT p.name AS proj, r.name AS person FROM project as p \"\n",
    "                 \"JOIN researcher_to_project AS p2r ON p2r.project_pk = p.pk \"\n",
    "                 \"JOIN researcher AS r ON r.pk = p2r.researcher_pk \"\n",
    "                 \"WHERE p.name = 'computational';\")\n",
    "\n",
    "res = db.execute(query)\n",
    "researchers = res.fetchall()\n",
    "for r in researchers:\n",
    "    print(r[\"proj\"], r[\"person\"])\n"
   ]
  },
  {
   "cell_type": "code",
   "execution_count": null,
   "id": "0fc27602-ad6d-4e59-b7e4-7e5d4ad128a9",
   "metadata": {},
   "outputs": [],
   "source": [
    "db.execute(\"INSERT INTO researcher (name) VALUES (?)\", [\"prof\"])\n",
    "db.commit()\n",
    "res = db.execute(\"SELECT pk from project where name = 'computational'\")\n",
    "p = res.fetchone()\n",
    "project_pk = p[\"pk\"]\n",
    "res = db.execute(\"SELECT pk from researcher where name = 'prof'\")\n",
    "p = res.fetchone()\n",
    "researcher_pk = p[\"pk\"]\n",
    "\n",
    "db.execute(\"INSERT INTO researcher_to_project (researcher_pk, project_pk) VALUES (?, ?)\", [researcher_pk, project_pk])\n",
    "db.commit()\n",
    "\n",
    "res = db.execute(query)\n",
    "researchers = res.fetchall()\n",
    "for r in researchers:\n",
    "    print(r[\"proj\"], r[\"person\"])"
   ]
  },
  {
   "cell_type": "code",
   "execution_count": null,
   "id": "fe824136-8ae3-4dfd-879d-8a0a69297dd0",
   "metadata": {},
   "outputs": [],
   "source": [
    "note = \"Day 47: students still don't seem to be learning. Time to try beatings.\"\n",
    "\n",
    "db.execute(\"INSERT INTO note (researcher_pk, project_pk, content) VALUES (?, ?, ?)\", [researcher_pk, project_pk, note])\n",
    "db.commit()\n",
    "\n",
    "query = (\"SELECT p.name AS proj, r.name AS person, n.content FROM note as n \"\n",
    "                 \"JOIN project AS p ON n.project_pk = p.pk \"\n",
    "                 \"JOIN researcher AS r ON r.pk = n.researcher_pk \"\n",
    "                 \"WHERE p.name = 'computational';\")\n",
    "\n",
    "res = db.execute(query)\n",
    "researchers = res.fetchall()\n",
    "for r in researchers:\n",
    "    print(r[\"proj\"], r[\"person\"], r[\"content\"])"
   ]
  },
  {
   "cell_type": "code",
   "execution_count": null,
   "id": "0ed60b8e-b536-44e4-b3c0-8d0e2e7ccbdc",
   "metadata": {},
   "outputs": [],
   "source": []
  }
 ],
 "metadata": {
  "kernelspec": {
   "display_name": "Python 3 (ipykernel)",
   "language": "python",
   "name": "python3"
  },
  "language_info": {
   "codemirror_mode": {
    "name": "ipython",
    "version": 3
   },
   "file_extension": ".py",
   "mimetype": "text/x-python",
   "name": "python",
   "nbconvert_exporter": "python",
   "pygments_lexer": "ipython3",
   "version": "3.12.9"
  }
 },
 "nbformat": 4,
 "nbformat_minor": 5
}
