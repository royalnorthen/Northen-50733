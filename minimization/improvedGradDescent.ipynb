{
 "cells": [
  {
   "cell_type": "code",
   "execution_count": 1,
   "metadata": {},
   "outputs": [],
   "source": [
    "import numpy as np"
   ]
  },
  {
   "cell_type": "code",
   "execution_count": 4,
   "metadata": {},
   "outputs": [],
   "source": [
    "# CHI SQUARED (WORKS CORRECTLY)\n",
    "\n",
    "def chisquare(xdat, ydat, func):\n",
    "    def returnfunction(input):\n",
    "        X2sum = 0\n",
    "        for i in range(len(ydat)):\n",
    "            X2sum += ((ydat[i] - func(xdat[i], *input))/ydat[i])**2\n",
    "        return X2sum / len(ydat)\n",
    "    return returnfunction\n",
    "\n",
    "# TEST FUNCTIONS\n",
    "\n",
    "def test_func1(x_in, m, b):\n",
    "    return m*np.sin(x_in) + b\n",
    "\n",
    "x1 = np.arange(0, 10, 0.01)\n",
    "y1 = test_func1(x1, 2, 1)\n",
    "\n",
    "\n",
    "def test_func2(x_in, m, b):\n",
    "    return m*np.tan(x_in) + b*x_in**(1/5)\n",
    "\n",
    "x2 = np.arange(0, 10, 0.01)\n",
    "y2 = test_func2(x2, 30, 15)\n",
    "\n",
    "\n",
    "def test_func3(x_in, a, b, c, d):\n",
    "    return a*x_in**3 + b*x_in**2 + c*x_in + d\n",
    "\n",
    "x3 = np.arange(0, 10, 0.01)\n",
    "y3 = test_func3(x3, 500, 8, 30, 90)\n",
    "\n",
    "\n",
    "def test_func4(x_in, m, b):\n",
    "    return np.sin(m*x_in) + np.cos(b*x_in)\n",
    "\n",
    "x4 = np.arange(0, 10, 0.01)\n",
    "y4 = test_func4(x4, 4, 10)"
   ]
  },
  {
   "cell_type": "code",
   "execution_count": 6,
   "metadata": {},
   "outputs": [
    {
     "name": "stderr",
     "output_type": "stream",
     "text": [
      "C:\\Users\\royal\\AppData\\Local\\Temp\\ipykernel_30824\\3474907325.py:7: RuntimeWarning: invalid value encountered in scalar divide\n",
      "  X2sum += ((ydat[i] - func(xdat[i], *input))/ydat[i])**2\n"
     ]
    },
    {
     "ename": "TypeError",
     "evalue": "test_func3() missing 2 required positional arguments: 'c' and 'd'",
     "output_type": "error",
     "traceback": [
      "\u001b[1;31m---------------------------------------------------------------------------\u001b[0m",
      "\u001b[1;31mTypeError\u001b[0m                                 Traceback (most recent call last)",
      "Cell \u001b[1;32mIn[6], line 42\u001b[0m\n\u001b[0;32m     40\u001b[0m best1, steps1, path_of_descent1 \u001b[38;5;241m=\u001b[39m Ndim_grad_desc(chi1, np\u001b[38;5;241m.\u001b[39marray([\u001b[38;5;241m0\u001b[39m, \u001b[38;5;241m0\u001b[39m], \u001b[38;5;28mfloat\u001b[39m), step\u001b[38;5;241m=\u001b[39m\u001b[38;5;241m0.01\u001b[39m)\n\u001b[0;32m     41\u001b[0m best2, steps2, path_of_descent2 \u001b[38;5;241m=\u001b[39m Ndim_grad_desc(chi2, np\u001b[38;5;241m.\u001b[39marray([\u001b[38;5;241m0\u001b[39m, \u001b[38;5;241m0\u001b[39m], \u001b[38;5;28mfloat\u001b[39m), step\u001b[38;5;241m=\u001b[39m\u001b[38;5;241m0.01\u001b[39m)\n\u001b[1;32m---> 42\u001b[0m best3, steps3, path_of_descent3 \u001b[38;5;241m=\u001b[39m \u001b[43mNdim_grad_desc\u001b[49m\u001b[43m(\u001b[49m\u001b[43mchi3\u001b[49m\u001b[43m,\u001b[49m\u001b[43m \u001b[49m\u001b[43mnp\u001b[49m\u001b[38;5;241;43m.\u001b[39;49m\u001b[43marray\u001b[49m\u001b[43m(\u001b[49m\u001b[43m[\u001b[49m\u001b[38;5;241;43m0\u001b[39;49m\u001b[43m,\u001b[49m\u001b[43m \u001b[49m\u001b[38;5;241;43m0\u001b[39;49m\u001b[43m]\u001b[49m\u001b[43m,\u001b[49m\u001b[43m \u001b[49m\u001b[38;5;28;43mfloat\u001b[39;49m\u001b[43m)\u001b[49m\u001b[43m,\u001b[49m\u001b[43m \u001b[49m\u001b[43mstep\u001b[49m\u001b[38;5;241;43m=\u001b[39;49m\u001b[38;5;241;43m0.01\u001b[39;49m\u001b[43m)\u001b[49m\n\u001b[0;32m     43\u001b[0m best4, steps4, path_of_descent4 \u001b[38;5;241m=\u001b[39m Ndim_grad_desc(chi4, np\u001b[38;5;241m.\u001b[39marray([\u001b[38;5;241m0\u001b[39m, \u001b[38;5;241m0\u001b[39m], \u001b[38;5;28mfloat\u001b[39m), step\u001b[38;5;241m=\u001b[39m\u001b[38;5;241m0.01\u001b[39m)\n\u001b[0;32m     45\u001b[0m \u001b[38;5;28mprint\u001b[39m(\u001b[38;5;124mf\u001b[39m\u001b[38;5;124m\"\u001b[39m\u001b[38;5;124mthe calculated values are:\u001b[39m\u001b[38;5;132;01m{\u001b[39;00mbest1\u001b[38;5;132;01m}\u001b[39;00m\u001b[38;5;124m\"\u001b[39m)\n",
      "Cell \u001b[1;32mIn[6], line 16\u001b[0m, in \u001b[0;36mNdim_grad_desc\u001b[1;34m(f, x0, step, accuracy, verbose, counting, max_steps, deriv_delta, taken_path)\u001b[0m\n\u001b[0;32m     15\u001b[0m \u001b[38;5;28;01mdef\u001b[39;00m\u001b[38;5;250m \u001b[39m\u001b[38;5;21mNdim_grad_desc\u001b[39m(f, x0, step\u001b[38;5;241m=\u001b[39m\u001b[38;5;241m0.1\u001b[39m, accuracy\u001b[38;5;241m=\u001b[39m\u001b[38;5;241m0.0001\u001b[39m, verbose\u001b[38;5;241m=\u001b[39m\u001b[38;5;28;01mFalse\u001b[39;00m, counting\u001b[38;5;241m=\u001b[39m\u001b[38;5;28;01mTrue\u001b[39;00m, max_steps\u001b[38;5;241m=\u001b[39m\u001b[38;5;241m10000\u001b[39m, deriv_delta\u001b[38;5;241m=\u001b[39m\u001b[38;5;241m1e-8\u001b[39m, taken_path\u001b[38;5;241m=\u001b[39m\u001b[38;5;28;01mFalse\u001b[39;00m):\n\u001b[1;32m---> 16\u001b[0m     fpartial, gradient \u001b[38;5;241m=\u001b[39m \u001b[43mpartial_deriv_central\u001b[49m\u001b[43m(\u001b[49m\u001b[43mf\u001b[49m\u001b[43m,\u001b[49m\u001b[43m \u001b[49m\u001b[43mx0\u001b[49m\u001b[43m,\u001b[49m\u001b[43m \u001b[49m\u001b[43mdelta\u001b[49m\u001b[38;5;241;43m=\u001b[39;49m\u001b[43mderiv_delta\u001b[49m\u001b[43m)\u001b[49m\n\u001b[0;32m     17\u001b[0m     step_count \u001b[38;5;241m=\u001b[39m \u001b[38;5;241m0\u001b[39m\n\u001b[0;32m     18\u001b[0m     points_checked \u001b[38;5;241m=\u001b[39m [x0\u001b[38;5;241m.\u001b[39mtolist() \u001b[38;5;241m+\u001b[39m [\u001b[38;5;28mfloat\u001b[39m(f(x0))]]\n",
      "Cell \u001b[1;32mIn[6], line 8\u001b[0m, in \u001b[0;36mpartial_deriv_central\u001b[1;34m(f, x0, delta)\u001b[0m\n\u001b[0;32m      6\u001b[0m     partial_delta \u001b[38;5;241m=\u001b[39m np\u001b[38;5;241m.\u001b[39mzeros(dimensions)\n\u001b[0;32m      7\u001b[0m     partial_delta[i] \u001b[38;5;241m=\u001b[39m delta\n\u001b[1;32m----> 8\u001b[0m     fpartial[i] \u001b[38;5;241m=\u001b[39m (\u001b[43mf\u001b[49m\u001b[43m(\u001b[49m\u001b[43mx0\u001b[49m\u001b[43m \u001b[49m\u001b[38;5;241;43m+\u001b[39;49m\u001b[43m \u001b[49m\u001b[43mpartial_delta\u001b[49m\u001b[43m)\u001b[49m \u001b[38;5;241m-\u001b[39m f(x0 \u001b[38;5;241m-\u001b[39m partial_delta)) \u001b[38;5;241m/\u001b[39m (\u001b[38;5;241m2\u001b[39m\u001b[38;5;241m*\u001b[39mdelta)\n\u001b[0;32m     10\u001b[0m gradient \u001b[38;5;241m=\u001b[39m np\u001b[38;5;241m.\u001b[39mlinalg\u001b[38;5;241m.\u001b[39mnorm(fpartial) \u001b[38;5;66;03m# epic way to get vector magnitude\u001b[39;00m\n\u001b[0;32m     12\u001b[0m \u001b[38;5;28;01mreturn\u001b[39;00m fpartial, gradient\n",
      "Cell \u001b[1;32mIn[4], line 7\u001b[0m, in \u001b[0;36mchisquare.<locals>.returnfunction\u001b[1;34m(input)\u001b[0m\n\u001b[0;32m      5\u001b[0m X2sum \u001b[38;5;241m=\u001b[39m \u001b[38;5;241m0\u001b[39m\n\u001b[0;32m      6\u001b[0m \u001b[38;5;28;01mfor\u001b[39;00m i \u001b[38;5;129;01min\u001b[39;00m \u001b[38;5;28mrange\u001b[39m(\u001b[38;5;28mlen\u001b[39m(ydat)):\n\u001b[1;32m----> 7\u001b[0m     X2sum \u001b[38;5;241m+\u001b[39m\u001b[38;5;241m=\u001b[39m ((ydat[i] \u001b[38;5;241m-\u001b[39m \u001b[43mfunc\u001b[49m\u001b[43m(\u001b[49m\u001b[43mxdat\u001b[49m\u001b[43m[\u001b[49m\u001b[43mi\u001b[49m\u001b[43m]\u001b[49m\u001b[43m,\u001b[49m\u001b[43m \u001b[49m\u001b[38;5;241;43m*\u001b[39;49m\u001b[38;5;28;43minput\u001b[39;49m\u001b[43m)\u001b[49m)\u001b[38;5;241m/\u001b[39mydat[i])\u001b[38;5;241m*\u001b[39m\u001b[38;5;241m*\u001b[39m\u001b[38;5;241m2\u001b[39m\n\u001b[0;32m      8\u001b[0m \u001b[38;5;28;01mreturn\u001b[39;00m X2sum \u001b[38;5;241m/\u001b[39m \u001b[38;5;28mlen\u001b[39m(ydat)\n",
      "\u001b[1;31mTypeError\u001b[0m: test_func3() missing 2 required positional arguments: 'c' and 'd'"
     ]
    }
   ],
   "source": [
    "def partial_deriv_central(f, x0, delta=1e-8):\n",
    "    dimensions = len(x0)\n",
    "    fpartial = np.zeros(dimensions)\n",
    "\n",
    "    for i in range(dimensions):\n",
    "        partial_delta = np.zeros(dimensions)\n",
    "        partial_delta[i] = delta\n",
    "        fpartial[i] = (f(x0 + partial_delta) - f(x0 - partial_delta)) / (2*delta)\n",
    "\n",
    "    gradient = np.linalg.norm(fpartial) # epic way to get vector magnitude\n",
    "\n",
    "    return fpartial, gradient\n",
    "\n",
    "\n",
    "def Ndim_grad_desc(f, x0, step=0.1, accuracy=0.0001, verbose=False, counting=True, max_steps=10000, deriv_delta=1e-8, taken_path=False):\n",
    "    fpartial, gradient = partial_deriv_central(f, x0, delta=deriv_delta)\n",
    "    step_count = 0\n",
    "    points_checked = [x0.tolist() + [float(f(x0))]]\n",
    "    while np.abs(gradient) > accuracy: # both sides were multiplied by step for different reasons\n",
    "        fpartial, gradient = partial_deriv_central(f, x0, delta=deriv_delta)\n",
    "        \n",
    "        x0 = x0 - fpartial*step\n",
    "        if verbose:\n",
    "            print(x0, fpartial, step)\n",
    "        if counting:\n",
    "            step_count +=1\n",
    "            if step_count == max_steps+1:\n",
    "                print(f\"Exceeded maximum steps ({max_steps}).  Current output is:\")\n",
    "                break\n",
    "        if taken_path:\n",
    "            points_checked.append(x0.tolist() + [float(f(x0))])\n",
    "    return x0, step_count, np.array(points_checked).T\n",
    "\n",
    "\n",
    "chi1 = chisquare(x1, y1, test_func1)\n",
    "chi2 = chisquare(x2, y2, test_func2)\n",
    "chi3 = chisquare(x3, y3, test_func3)\n",
    "chi4 = chisquare(x4, y4, test_func4)\n",
    "\n",
    "best1, steps1, path_of_descent1 = Ndim_grad_desc(chi1, np.array([0, 0], float), step=0.01)\n",
    "best2, steps2, path_of_descent2 = Ndim_grad_desc(chi2, np.array([0, 0], float), step=0.01)\n",
    "best3, steps3, path_of_descent3 = Ndim_grad_desc(chi3, np.array([0, 0], float), step=0.01)\n",
    "best4, steps4, path_of_descent4 = Ndim_grad_desc(chi4, np.array([0, 0], float), step=0.01)\n",
    "\n",
    "print(f\"the calculated values are:{best1}\")\n",
    "print(f\"the calculated values are:{best2}\")\n",
    "print(f\"the calculated values are:{best3}\")\n",
    "print(f\"the calculated values are:{best4}\")\n"
   ]
  },
  {
   "cell_type": "code",
   "execution_count": null,
   "metadata": {},
   "outputs": [],
   "source": []
  }
 ],
 "metadata": {
  "kernelspec": {
   "display_name": "test",
   "language": "python",
   "name": "python3"
  },
  "language_info": {
   "codemirror_mode": {
    "name": "ipython",
    "version": 3
   },
   "file_extension": ".py",
   "mimetype": "text/x-python",
   "name": "python",
   "nbconvert_exporter": "python",
   "pygments_lexer": "ipython3",
   "version": "3.12.6"
  }
 },
 "nbformat": 4,
 "nbformat_minor": 2
}
